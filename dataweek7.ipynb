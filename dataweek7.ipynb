{
 "cells": [
  {
   "cell_type": "code",
   "execution_count": 46,
   "metadata": {
    "collapsed": false
   },
   "outputs": [],
   "source": [
    "import pandas as pd\n",
    "import numpy as np\n",
    "crimes = pd.read_csv(\"2003to2016.csv\")"
   ]
  },
  {
   "cell_type": "code",
   "execution_count": 130,
   "metadata": {
    "collapsed": false
   },
   "outputs": [],
   "source": [
    "prost = crimes[crimes.Category == 'PROSTITUTION']\n",
    "theft = crimes[crimes.Category == 'LARCENY/THEFT']\n",
    "#print prost[0:5]\n",
    "#print theft[0:5]\n",
    "\n",
    "#bloody NaN\n",
    "districtset = crimes.PdDistrict.unique()[:-1]\n",
    "a = {}\n",
    "\n",
    "for i in districtset:\n",
    "    a[i] = [[0 for n in range(0,13)], [0 for n in range(0,13)]]\n",
    "\n",
    "a = pd.DataFrame(a)\n",
    "for i in prost.iterrows():\n",
    "    #2004, as we zero index\n",
    "    year = int(i[1]['Date'][-4:]) - 2003\n",
    "    if year > 12:\n",
    "        continue\n",
    "    a[i[1]['PdDistrict']][0][year] += 1\n",
    "    \n",
    "for i in theft.iterrows():\n",
    "    #2004, as we zero index\n",
    "    year = int(i[1]['Date'][-4:]) - 2003\n",
    "    if year > 12:\n",
    "        continue\n",
    "    a[i[1]['PdDistrict']][1][year] += 1\n",
    "    \n"
   ]
  },
  {
   "cell_type": "code",
   "execution_count": 134,
   "metadata": {
    "collapsed": false
   },
   "outputs": [
    {
     "name": "stdout",
     "output_type": "stream",
     "text": [
      "0    [713, 529, 346, 591, 740, 707, 997, 774, 657, ...\n",
      "1    [2767, 2721, 2613, 2535, 2502, 2772, 2602, 289...\n",
      "Name: MISSION, dtype: object\n",
      "       district  prost    theft  year\n",
      "0       MISSION  713.0   2767.0  2003\n",
      "1    TENDERLOIN  527.0   1496.0  2003\n",
      "2      NORTHERN  581.0   4548.0  2003\n",
      "3      RICHMOND   15.0   1497.0  2003\n",
      "4       BAYVIEW   11.0   1729.0  2003\n",
      "5       CENTRAL   70.0   3480.0  2003\n",
      "6          PARK    2.0   1543.0  2003\n",
      "7       TARAVAL   10.0   1917.0  2003\n",
      "8      SOUTHERN   18.0   5867.0  2003\n",
      "9     INGLESIDE    5.0   1549.0  2003\n",
      "10      MISSION  529.0   2721.0  2004\n",
      "11   TENDERLOIN  224.0   1445.0  2004\n",
      "12     NORTHERN  551.0   4121.0  2004\n",
      "13     RICHMOND    4.0   1318.0  2004\n",
      "14      BAYVIEW   18.0   1408.0  2004\n",
      "15      CENTRAL  163.0   3240.0  2004\n",
      "16         PARK    0.0   1308.0  2004\n",
      "17      TARAVAL   11.0   1790.0  2004\n",
      "18     SOUTHERN   25.0   5786.0  2004\n",
      "19    INGLESIDE    2.0   1368.0  2004\n",
      "20      MISSION  346.0   2613.0  2005\n",
      "21   TENDERLOIN  151.0   1565.0  2005\n",
      "22     NORTHERN  364.0   4708.0  2005\n",
      "23     RICHMOND    8.0   1272.0  2005\n",
      "24      BAYVIEW   16.0   1654.0  2005\n",
      "25      CENTRAL  160.0   3544.0  2005\n",
      "26         PARK    1.0   1272.0  2005\n",
      "27      TARAVAL   18.0   1632.0  2005\n",
      "28     SOUTHERN   31.0   5610.0  2005\n",
      "29    INGLESIDE    8.0   1449.0  2005\n",
      "..          ...    ...      ...   ...\n",
      "100     MISSION  469.0   4265.0  2013\n",
      "101  TENDERLOIN   35.0   1823.0  2013\n",
      "102    NORTHERN  115.0   5696.0  2013\n",
      "103    RICHMOND    1.0   2261.0  2013\n",
      "104     BAYVIEW   10.0   2211.0  2013\n",
      "105     CENTRAL   37.0   4893.0  2013\n",
      "106        PARK    1.0   2042.0  2013\n",
      "107     TARAVAL    3.0   2291.0  2013\n",
      "108    SOUTHERN   15.0   8829.0  2013\n",
      "109   INGLESIDE    6.0   2101.0  2013\n",
      "110     MISSION  162.0   3252.0  2014\n",
      "111  TENDERLOIN   15.0   1904.0  2014\n",
      "112    NORTHERN   40.0   6325.0  2014\n",
      "113    RICHMOND    2.0   2149.0  2014\n",
      "114     BAYVIEW    5.0   2020.0  2014\n",
      "115     CENTRAL  166.0   5772.0  2014\n",
      "116        PARK    1.0   2230.0  2014\n",
      "117     TARAVAL   22.0   2239.0  2014\n",
      "118    SOUTHERN   31.0  10038.0  2014\n",
      "119   INGLESIDE    5.0   2074.0  2014\n",
      "120     MISSION   66.0   2407.0  2015\n",
      "121  TENDERLOIN   23.0   2039.0  2015\n",
      "122    NORTHERN   42.0   7468.0  2015\n",
      "123    RICHMOND    9.0   2977.0  2015\n",
      "124     BAYVIEW    7.0   2211.0  2015\n",
      "125     CENTRAL   44.0   6917.0  2015\n",
      "126        PARK    1.0   2378.0  2015\n",
      "127     TARAVAL   81.0   2731.0  2015\n",
      "128    SOUTHERN   96.0  10931.0  2015\n",
      "129   INGLESIDE    5.0   2009.0  2015\n",
      "\n",
      "[130 rows x 4 columns]\n"
     ]
    }
   ],
   "source": [
    "\n",
    "print a['MISSION']\n",
    "csv = pd.DataFrame(columns=['district', 'prost', 'theft', 'year'])\n",
    "index = 0\n",
    "for i in range(2003, 2016):\n",
    "    for dist in districtset:\n",
    "        csv.loc[index] = [dist, int(a[dist][0][i-2003]),int(a[dist][1][i-2003]), str(i)]\n",
    "        index += 1\n",
    "print csv"
   ]
  },
  {
   "cell_type": "code",
   "execution_count": 133,
   "metadata": {
    "collapsed": false
   },
   "outputs": [],
   "source": [
    "csv.to_csv('week7.csv')"
   ]
  },
  {
   "cell_type": "code",
   "execution_count": null,
   "metadata": {
    "collapsed": false,
    "scrolled": true
   },
   "outputs": [],
   "source": []
  },
  {
   "cell_type": "code",
   "execution_count": null,
   "metadata": {
    "collapsed": false
   },
   "outputs": [],
   "source": []
  }
 ],
 "metadata": {
  "anaconda-cloud": {},
  "kernelspec": {
   "display_name": "Python 2",
   "language": "python",
   "name": "python2"
  },
  "language_info": {
   "codemirror_mode": {
    "name": "ipython",
    "version": 2
   },
   "file_extension": ".py",
   "mimetype": "text/x-python",
   "name": "python",
   "nbconvert_exporter": "python",
   "pygments_lexer": "ipython2",
   "version": "2.7.13"
  }
 },
 "nbformat": 4,
 "nbformat_minor": 1
}
